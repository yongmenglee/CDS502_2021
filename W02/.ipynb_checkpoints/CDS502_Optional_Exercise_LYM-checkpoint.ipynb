{
 "cells": [
  {
   "cell_type": "markdown",
   "metadata": {},
   "source": [
    "# CDS502: Big Data Storage & Management\n",
    "\n",
    "# Optional Exercise: The Guessing Game\n",
    "\n",
    "by: Lee Yong Meng"
   ]
  },
  {
   "cell_type": "code",
   "execution_count": 1,
   "metadata": {},
   "outputs": [],
   "source": [
    "# Import numpy package.\n",
    "import numpy as np"
   ]
  },
  {
   "cell_type": "markdown",
   "metadata": {},
   "source": [
    "Optional Exercise."
   ]
  },
  {
   "cell_type": "code",
   "execution_count": 3,
   "metadata": {},
   "outputs": [
    {
     "name": "stdout",
     "output_type": "stream",
     "text": [
      "Enter your guess (1-100): 50\n",
      "LOWER. 4 guesses left.\n",
      "Enter your guess (1-100): 35\n",
      "LOWER. 3 guesses left.\n",
      "Enter your guess (1-100): 22\n",
      "LOWER. 2 guesses left.\n",
      "Enter your guess (1-100): 10\n",
      "LOWER. 1 guesses left.\n",
      "Enter your guess (1-100): 8\n",
      "LOWER. 0 guesses left.\n",
      "You lose. The correct number is 7\n"
     ]
    }
   ],
   "source": [
    "# Generate correct number randomly (range 1 - 100)\n",
    "correct_num = int(round(np.random.rand() * 100))\n",
    "correct_num\n",
    "\n",
    "# Prompt user to input a number\n",
    "guess_num = input(\"Enter your guess (1-100): \")\n",
    "guess_num = int(guess_num)\n",
    "\n",
    "# Set number of attempts\n",
    "attempts = 5\n",
    "correct_answer = False\n",
    "\n",
    "# Initial checking\n",
    "# Skip while loop if first guess is correct \n",
    "if correct_num == guess_num:\n",
    "    attempts = 0\n",
    "    correct_answer = True\n",
    "else:\n",
    "    attempts -= 1\n",
    "    if correct_num > guess_num:\n",
    "        print(\"HIGHER. {} guesses left.\".format(attempts))\n",
    "\n",
    "    else:\n",
    "        print(\"LOWER. {} guesses left.\".format(attempts))\n",
    "\n",
    "# Proceed with while loop for subsequent guesses\n",
    "while(attempts > 0):\n",
    "    attempts -= 1\n",
    "    \n",
    "    if correct_num != guess_num:\n",
    "        guess_num = input(\"Enter your guess (1-100): \")\n",
    "        guess_num = int(guess_num)\n",
    "        \n",
    "        if correct_num > guess_num:\n",
    "            print(\"HIGHER. {} guesses left.\".format(attempts))\n",
    "\n",
    "        elif correct_num < guess_num:\n",
    "            print(\"LOWER. {} guesses left.\".format(attempts))\n",
    "    \n",
    "#     else:\n",
    "    if correct_num == guess_num:\n",
    "        correct_answer = True\n",
    "        break\n",
    "\n",
    "# Print win/lose\n",
    "if correct_answer:\n",
    "    print(\"You win! The correct number is {}\".format(correct_num))\n",
    "else:\n",
    "    print(\"You lose. The correct number is {}\".format(correct_num))"
   ]
  },
  {
   "cell_type": "code",
   "execution_count": null,
   "metadata": {},
   "outputs": [],
   "source": []
  }
 ],
 "metadata": {
  "kernelspec": {
   "display_name": "Python 3",
   "language": "python",
   "name": "python3"
  },
  "language_info": {
   "codemirror_mode": {
    "name": "ipython",
    "version": 3
   },
   "file_extension": ".py",
   "mimetype": "text/x-python",
   "name": "python",
   "nbconvert_exporter": "python",
   "pygments_lexer": "ipython3",
   "version": "3.8.3"
  }
 },
 "nbformat": 4,
 "nbformat_minor": 4
}
