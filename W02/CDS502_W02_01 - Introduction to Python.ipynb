{
 "cells": [
  {
   "cell_type": "markdown",
   "metadata": {},
   "source": [
    "### CDS502: Big Data Storage and Management\n",
    "\n",
    "# Lab 01: Introduction to Python\n",
    "\n",
    "This notebook is adapted for self-study purpose.\n",
    "\n",
    "Last updated: Sun, 25 October 2020"
   ]
  },
  {
   "cell_type": "markdown",
   "metadata": {},
   "source": [
    "## Outline\n",
    "\n",
    "- **[Section 1: Markdown Cells](#section1)**\n",
    "  - [Bold and italics](#bold_and_italics)\n",
    "  - [Paragraphs](#paragraphs)\n",
    "  - [Bulleted Lists](#bulleted_lists)\n",
    "  - [Numbered Lists](#numbered_lists)\n",
    "  - [Colored Text](#colored_text)\n",
    "- **[Section 2: Code Cells](#section2)**\n",
    "- **[Section 3: Python Basics](#section3)**\n",
    "  - [For Loops](#for_loops)\n",
    "    - [**Program: 01**](#program1)\n",
    "    - [**Program: 02**](#program2)\n",
    "  - [Print Statement: Tabs and new lines](#tab_newline)\n",
    "    - [**Program: 03**](#program3)\n",
    "  - [Import Modules and Packages](#import)\n",
    "    - [Mathematics](#mathematics)\n",
    "    - [Dates and Times](#date_time)\n",
    "  - [Data Structures](#data_structure)\n",
    "- [**Challenge: The Guessing Game**](#challenge)"
   ]
  },
  {
   "cell_type": "markdown",
   "metadata": {},
   "source": [
    "<a name=\"section1\"></a>\n",
    "\n",
    "# Section 1: Markdown Cells"
   ]
  },
  {
   "cell_type": "markdown",
   "metadata": {},
   "source": [
    "<a name=\"bold_and_italics\"></a>\n",
    "\n",
    "## Bold and italics\n",
    "\n",
    "There are two ways to specify bold and italic texts:\n",
    "\n",
    "#### 1. Use asterisks\n",
    "\n",
    "Syntax:\n",
    "```\n",
    "It's **very** easy to do **bold** and *italics*\n",
    "\n",
    "```\n",
    "Output:\n",
    "> It's **very** easy to do **bold** and *italics*\n",
    "\n",
    "#### 2. Use underscores\n",
    "\n",
    "Syntax:\n",
    "```\n",
    "It's __very__ easy to do __bold__ and _italics_\n",
    "```\n",
    "Output:\n",
    "> It's __very__ easy to do __bold__ and _italics_"
   ]
  },
  {
   "cell_type": "markdown",
   "metadata": {},
   "source": [
    "<a name=\"paragraphs\"></a>\n",
    "\n",
    "## Paragraphs\n",
    "\n",
    "In Markdown cells, new paragraph starts only after two consecutive line breaks, i.e.,\n",
    "\n",
    "Syntax:\n",
    "```\n",
    "This is line 1\n",
    "\n",
    "This is line 2\n",
    "```\n",
    "Output:\n",
    "> This is line 1\n",
    ">\n",
    "> This is line 2\n",
    "\n",
    "The following example demonstrates the texts being rendered as a single line in Markdown, even though it is written in multiple lines.\n",
    "\n",
    "Syntax:\n",
    "```\n",
    "You can write your paragraph on one long line,\n",
    "or you can\n",
    "wrap the lines yourself\n",
    "if you prefer.\n",
    "```\n",
    "Output:\n",
    "> You can write your paragraph on one long line,\n",
    "> or you can\n",
    "> wrap the lines yourself\n",
    "> if you prefer.\n",
    "\n",
    "**Bonus hint**: You can insert HTML tag `<br />` for single line break.\n",
    "\n",
    "Syntax:\n",
    "```\n",
    "This is line 1.<br />This is line 2.\n",
    "```\n",
    "\n",
    "Output:\n",
    "> This is line 1.<br />This is line 2."
   ]
  },
  {
   "cell_type": "markdown",
   "metadata": {},
   "source": [
    "<a name=\"bulleted_lists\"></a>\n",
    "\n",
    "## Bulleted Lists\n",
    "\n",
    "Start each line with hyphen (`-`) or an asterisk (`*`), followed by a space. List items can be nested (notice that there are multiple spaces before the nested items).\n",
    "\n",
    "Syntax:\n",
    "```\n",
    "* Bullet 1\n",
    "* Bullet 2\n",
    "  * Bullet 2a\n",
    "  * Bullet 2b\n",
    "* Bullet 3\n",
    "  * Bullet 3a\n",
    "  * Bullet 3b\n",
    "    * Bullet 3b(a)\n",
    "    * Bullet 3b(b)\n",
    "```\n",
    "\n",
    "Output:\n",
    "> * Bullet 1\n",
    "> * Bullet 2\n",
    ">   * Bullet 2a\n",
    ">   * Bullet 2b\n",
    "> * Bullet 3\n",
    ">   * Bullet 3a\n",
    ">   * Bullet 3b\n",
    ">     * Bullet 3b(a)\n",
    ">     * Bullet 3b(b)"
   ]
  },
  {
   "cell_type": "markdown",
   "metadata": {},
   "source": [
    "<a name=\"numbered_lists\"></a>\n",
    "\n",
    "## Numbered Lists\n",
    "\n",
    "Start each line with number and a period (`.`), then a space. \n",
    "\n",
    "Syntax:\n",
    "```\n",
    "1. Baked potato\n",
    "2. Baked beans\n",
    "3. Pepper\n",
    "```\n",
    "\n",
    "Output:\n",
    "> 1. Baked potato\n",
    "> 2. Baked beans\n",
    "> 3. Pepper"
   ]
  },
  {
   "cell_type": "markdown",
   "metadata": {},
   "source": [
    "<a name=\"colored_text\"></a>\n",
    "\n",
    "## Colored Text\n",
    "\n",
    "By manipulating HTML tags, the text color in the Markdown cells can be changed.\n",
    "\n",
    "Syntax:\n",
    "```\n",
    "This <span style=\"color:red\">word</span> is not black. This is <span style=\"color:red\">red</span>.\n",
    "\n",
    "This <span style=\"color:green\">word</span> is not black. This is <span style=\"color:green\">green</span>.\n",
    "```\n",
    "\n",
    "Output:\n",
    "> This <span style=\"color:red\">word</span> is not black. This is <span style=\"color:red\">red</span>.\n",
    "> \n",
    "> This <span style=\"color:green\">word</span> is not black. This is <span style=\"color:green\">green</span>."
   ]
  },
  {
   "cell_type": "markdown",
   "metadata": {},
   "source": [
    "**Optional**: Check this [GitHub link](https://github.com/adam-p/markdown-here/wiki/Markdown-Cheatsheet) for a copy of your Markdown cheatsheet.\n",
    "\n",
    "*Note: The Markdown cheatsheet is not comprehensive but useful enough to write the basic Markdown script.*"
   ]
  },
  {
   "cell_type": "markdown",
   "metadata": {},
   "source": [
    "<a name=\"section2\"></a>\n",
    "\n",
    "# Section 2: Code Cells\n",
    "\n",
    "Try typing `1 + 2` into the code cell, then hit **Shift + Enter** button on the keyboard. When hitting **Shift + Enter**, the code in the cell will be evaluated, you will be placed in a new cell, and you will get the following:"
   ]
  },
  {
   "cell_type": "code",
   "execution_count": 36,
   "metadata": {},
   "outputs": [
    {
     "data": {
      "text/plain": [
       "3"
      ]
     },
     "execution_count": 36,
     "metadata": {},
     "output_type": "execute_result"
    }
   ],
   "source": [
    "1 + 2\n",
    "# 2 + 3"
   ]
  },
  {
   "cell_type": "markdown",
   "metadata": {},
   "source": [
    "One very interesting feature of the notebook is that you can go back in a cell, change it and reevaluate it again, thus updating your whole document. Try this by going back to the previous cell, changing `1 + 2` to `2 + 3`, and reevaluating the cell, by pressing **Shift + Enter**. You will notice the result was updated to `5` as soon as you evaluated the cell. This can be very powerful when you want to explore data or test an equation with different parameters without having to reevaluate your whole script. You can, however, reevaluate the whole notebook at once, by going to **Cell $\\rightarrow$ Run All**."
   ]
  },
  {
   "cell_type": "markdown",
   "metadata": {},
   "source": [
    "More examples are demonstrated below:"
   ]
  },
  {
   "cell_type": "code",
   "execution_count": 37,
   "metadata": {},
   "outputs": [
    {
     "data": {
      "text/plain": [
       "2"
      ]
     },
     "execution_count": 37,
     "metadata": {},
     "output_type": "execute_result"
    }
   ],
   "source": [
    "# round(): Python built-in function to round a number to the nearest integer.\n",
    "round(2.3222)"
   ]
  },
  {
   "cell_type": "code",
   "execution_count": 38,
   "metadata": {},
   "outputs": [
    {
     "data": {
      "text/plain": [
       "1"
      ]
     },
     "execution_count": 38,
     "metadata": {},
     "output_type": "execute_result"
    }
   ],
   "source": [
    "# %: Modulus operator\n",
    "# Calculate the remainder when a is divided by b (a % b)\n",
    "5 % 2"
   ]
  },
  {
   "cell_type": "code",
   "execution_count": 39,
   "metadata": {},
   "outputs": [
    {
     "data": {
      "text/plain": [
       "11"
      ]
     },
     "execution_count": 39,
     "metadata": {},
     "output_type": "execute_result"
    }
   ],
   "source": [
    "# Combining round() and % operator\n",
    "round((10 / 3) % 2 + 10)"
   ]
  },
  {
   "cell_type": "markdown",
   "metadata": {},
   "source": [
    "<a name='section3'></a>\n",
    "\n",
    "# Section 3: Python Basics"
   ]
  },
  {
   "cell_type": "markdown",
   "metadata": {},
   "source": [
    "<a name='for_loops'></a>\n",
    "\n",
    "## For Loops"
   ]
  },
  {
   "cell_type": "markdown",
   "metadata": {},
   "source": [
    "The basic of a `for` loop: In Python (and other programming languages), a `for` loop enables us to easily evaluate the same block of codes as many times as we like. The simplest `for` loop in Python would be defined as follows: "
   ]
  },
  {
   "cell_type": "code",
   "execution_count": 40,
   "metadata": {
    "scrolled": true
   },
   "outputs": [
    {
     "name": "stdout",
     "output_type": "stream",
     "text": [
      "0\n",
      "1\n",
      "2\n",
      "3\n",
      "4\n"
     ]
    }
   ],
   "source": [
    "# Run for loop for 5 times.\n",
    "for i in range(5):\n",
    "    print(i)"
   ]
  },
  {
   "cell_type": "markdown",
   "metadata": {},
   "source": [
    "Note that `i` starts from `0` and incremented by `1` at each new loop. We can think of `range(5)` as a **range** of values `[0, 1, 2, 3, 4]` (its data type is **range**: verify it by calling `type(range(5))`). Therefore, we can say that during the first loop, `i` is assigned to the first element: `0`; followed by the second element: `1` during the second loop, until the last element is accessed."
   ]
  },
  {
   "cell_type": "markdown",
   "metadata": {},
   "source": [
    "Variable assignment in Python is easy. Like most programming languages do, we specify the variable name on the left and the value on the right. The equal sign `=` is called the **assignment operator**. A line of code `a = 3` simply means that: \"Assign the value `3` to the variable `a`\". Furthermore, we can perform some operations to the variables (**<span style=\"color:red\">only variables that we have defined earlier**</span>) and assign the new value to another variable, e.g., `c = a + b`."
   ]
  },
  {
   "cell_type": "code",
   "execution_count": 41,
   "metadata": {},
   "outputs": [
    {
     "data": {
      "text/plain": [
       "7"
      ]
     },
     "execution_count": 41,
     "metadata": {},
     "output_type": "execute_result"
    }
   ],
   "source": [
    "a = 3\n",
    "b = 4\n",
    "e = 5\n",
    "c = a + b\n",
    "c"
   ]
  },
  {
   "cell_type": "markdown",
   "metadata": {},
   "source": [
    "Notice that we redefine the variable `b` by assigning new value to it. Furthermore, the variable `e` has been defined from the previous cell (and you need to run it for sure). Therefore, we can perform some operations on the two variables `b` (with the new value) and `e`, as demonstrated below."
   ]
  },
  {
   "cell_type": "code",
   "execution_count": 42,
   "metadata": {},
   "outputs": [
    {
     "data": {
      "text/plain": [
       "11"
      ]
     },
     "execution_count": 42,
     "metadata": {},
     "output_type": "execute_result"
    }
   ],
   "source": [
    "b = 6\n",
    "d = b + e\n",
    "d"
   ]
  },
  {
   "cell_type": "markdown",
   "metadata": {},
   "source": [
    "In a `for` loop, calling `i` as previously done is totally optional depending on the tasks we intend to perform. If the value of `i` is not required in the code block that we want to run for `n` times, we can replace `i` with underscore: `_`. Then, the syntax becomes `for _ in range(n)`. "
   ]
  },
  {
   "cell_type": "code",
   "execution_count": 43,
   "metadata": {},
   "outputs": [
    {
     "name": "stdout",
     "output_type": "stream",
     "text": [
      "Hello\n",
      "Hello\n",
      "Hello\n",
      "Hello\n",
      "Hello\n",
      "Hello\n",
      "Hello\n",
      "Hello\n",
      "Hello\n",
      "Hello\n"
     ]
    }
   ],
   "source": [
    "# Print \"Hello\" 10 times.\n",
    "for _ in range(10):\n",
    "    print('Hello')"
   ]
  },
  {
   "cell_type": "markdown",
   "metadata": {},
   "source": [
    "The program below asks the user for a number and prints its square, then asks for another number and prints its square, etc. It does this three times and then prints that the loop is done."
   ]
  },
  {
   "cell_type": "code",
   "execution_count": 44,
   "metadata": {},
   "outputs": [
    {
     "name": "stdout",
     "output_type": "stream",
     "text": [
      "Enter a number: 5\n",
      "The square of your number is 25\n",
      "Enter a number: 4\n",
      "The square of your number is 16\n",
      "Enter a number: 3\n",
      "The square of your number is 9\n",
      "The loop is now done.\n"
     ]
    }
   ],
   "source": [
    "for i in range(3):\n",
    "    num = int(input('Enter a number: '))\n",
    "    print('The square of your number is', num * num) # num squared\n",
    "    \n",
    "print('The loop is now done.')"
   ]
  },
  {
   "cell_type": "markdown",
   "metadata": {},
   "source": [
    "<a name='program1'></a>\n",
    "\n",
    "### Program: 01\n",
    "\n",
    "**The program below will print A, then B, then it will alternate C’s and D’s five times and then finish with the letter E once.**"
   ]
  },
  {
   "cell_type": "code",
   "execution_count": 45,
   "metadata": {},
   "outputs": [
    {
     "name": "stdout",
     "output_type": "stream",
     "text": [
      "A\n",
      "B\n",
      "C\n",
      "D\n",
      "E\n",
      "C\n",
      "D\n",
      "E\n",
      "C\n",
      "D\n",
      "E\n",
      "C\n",
      "D\n",
      "E\n",
      "C\n",
      "D\n",
      "E\n"
     ]
    }
   ],
   "source": [
    "# print('A')\n",
    "# print('B')\n",
    "# for i in range(5):\n",
    "#     print('C')\n",
    "#     print('D')\n",
    "#     print('E')\n",
    "    \n",
    "# Alternative: use `\\n` for \"new line\"\n",
    "print('A\\nB')\n",
    "for _ in range(5): print('C\\nD\\nE')"
   ]
  },
  {
   "cell_type": "markdown",
   "metadata": {},
   "source": [
    "### Try this: 01\n",
    "\n",
    "**<span style=\"color:blue\">We wanted the above program to print five C’s followed by five D’s, instead of alternating C’s and D’s.</span>**"
   ]
  },
  {
   "cell_type": "markdown",
   "metadata": {
    "collapsed": true
   },
   "source": [
    "Expected output:\n",
    "\n",
    "```\n",
    "A \n",
    "B \n",
    "C \n",
    "C \n",
    "C \n",
    "C \n",
    "C \n",
    "D \n",
    "D \n",
    "D \n",
    "D \n",
    "D\n",
    "```"
   ]
  },
  {
   "cell_type": "markdown",
   "metadata": {},
   "source": [
    "#### Solution"
   ]
  },
  {
   "cell_type": "code",
   "execution_count": 46,
   "metadata": {
    "scrolled": true
   },
   "outputs": [
    {
     "name": "stdout",
     "output_type": "stream",
     "text": [
      "A\n",
      "B\n",
      "C\n",
      "C\n",
      "C\n",
      "C\n",
      "C\n",
      "D\n",
      "D\n",
      "D\n",
      "D\n",
      "D\n"
     ]
    }
   ],
   "source": [
    "# Solution\n",
    "# print('A')\n",
    "# print('B')\n",
    "# for i in range(5):\n",
    "#     print('C')\n",
    "# for i in range(5):\n",
    "#     print('D')\n",
    "    \n",
    "# Alternative: Lambda function\n",
    "λ = lambda char, num = 1: [print(char) for _ in range(num)]\n",
    "_ = λ('A') + λ('B') + λ('C', 5) + λ('D', 5)"
   ]
  },
  {
   "cell_type": "markdown",
   "metadata": {},
   "source": [
    "**Optional**: Check [documentation](https://docs.python.org/3/tutorial/controlflow.html?highlight=lambda#lambda-expressions) for more about **lambda** expression. Don't worry if you don't understand it for now.\n",
    "\n",
    "**Bonus trick**:\n",
    "You can quickly type any Greek symbol in the code cell with this simple trick, say you want the symbol: lambda (`λ`)\n",
    "1. Type the escape character: `\\`\n",
    "2. Type the first few letters of \"lambda\": `\\lam`\n",
    "3. Press **Tab** key on the keyboard, you should see `\\lam` is autocompleted and become `\\lambda`\n",
    "4. Press again **Tab** key, and `\\lambda` will become `λ`.\n",
    "\n",
    "Have fun!"
   ]
  },
  {
   "cell_type": "markdown",
   "metadata": {},
   "source": [
    "<a name='program2'></a>\n",
    "\n",
    "### Program: 02\n",
    "\n",
    "The program below prints a rectangle of stars that is 4 rows tall and 6 rows wide."
   ]
  },
  {
   "cell_type": "code",
   "execution_count": 47,
   "metadata": {},
   "outputs": [
    {
     "name": "stdout",
     "output_type": "stream",
     "text": [
      "******\n",
      "******\n",
      "******\n",
      "******\n"
     ]
    }
   ],
   "source": [
    "for i in range(4):\n",
    "    print('*' * 6)"
   ]
  },
  {
   "cell_type": "markdown",
   "metadata": {},
   "source": [
    "If we want to make a triangle instead:"
   ]
  },
  {
   "cell_type": "code",
   "execution_count": 48,
   "metadata": {},
   "outputs": [
    {
     "name": "stdout",
     "output_type": "stream",
     "text": [
      "*\n",
      "**\n",
      "***\n",
      "****\n"
     ]
    }
   ],
   "source": [
    "for i in range(4):\n",
    "    print('*' * (i + 1))"
   ]
  },
  {
   "cell_type": "markdown",
   "metadata": {},
   "source": [
    "### Try This: 02\n",
    "\n",
    "**<span style=\"color:blue\">Use for loops to print a diamond like the one below. Allow the user to specify how high the diamond should be.</span>**"
   ]
  },
  {
   "cell_type": "markdown",
   "metadata": {
    "collapsed": true
   },
   "source": [
    "Expected output:\n",
    "\n",
    "```\n",
    "Please input side length of diamond: 5\n",
    "    *\n",
    "   ***\n",
    "  *****\n",
    " *******\n",
    "*********\n",
    " *******\n",
    "  *****\n",
    "   ***\n",
    "    *\n",
    "```"
   ]
  },
  {
   "cell_type": "markdown",
   "metadata": {},
   "source": [
    "#### Solution 1"
   ]
  },
  {
   "cell_type": "code",
   "execution_count": 49,
   "metadata": {},
   "outputs": [
    {
     "name": "stdout",
     "output_type": "stream",
     "text": [
      "Please input side length of diamond: 6\n",
      "     *\n",
      "    ***\n",
      "   *****\n",
      "  *******\n",
      " *********\n",
      "***********\n",
      " *********\n",
      "  *******\n",
      "   *****\n",
      "    ***\n",
      "     *\n"
     ]
    }
   ],
   "source": [
    "# Solution 1\n",
    "\n",
    "# Prompt user input\n",
    "side = int(input(\"Please input side length of diamond: \"))\n",
    "\n",
    "\n",
    "# **************************************************\n",
    "\n",
    "# - Method 1: More comprehensive look\n",
    "char = \"*\"\n",
    "\n",
    "upper_diamond = list(range(side))                # [0, 1, 2, 3, 4]\n",
    "lower_diamond = list(reversed(range(side - 1)))  # [3, 2, 1, 0]\n",
    "diamond = upper_diamond + lower_diamond          # [0, 1, 2, 3, 4, 3, 2, 1, 0]\n",
    "\n",
    "for x in diamond:\n",
    "    left_padding = ' ' * (side - (x + 1))        # [4, 3, 2, 1, 0, 1, 2, 3, 4]\n",
    "    body = char * ((x * 2) + 1)                  # [1, 3, 5, 7, 9, 7, 5, 3, 1]\n",
    "    print('{}{}'.format(left_padding, body))\n",
    "#     print(f'{left_padding}{body}') # <-- You can run this (f string) on Python v3.6+\n",
    "\n",
    "\n",
    "# *************************************************\n",
    "\n",
    "# # - Method 2: Simplified look\n",
    "# for x in list(range(side)) + list(reversed(range(side - 1))):\n",
    "#     print('{: <{w1}}{:*<{w2}}'.format('', '', w1 = side - x - 1, w2 = x * 2 + 1))\n"
   ]
  },
  {
   "cell_type": "markdown",
   "metadata": {},
   "source": [
    "#### Solution 2"
   ]
  },
  {
   "cell_type": "code",
   "execution_count": 50,
   "metadata": {},
   "outputs": [
    {
     "name": "stdout",
     "output_type": "stream",
     "text": [
      "Please input side length of diamond: 5\n",
      "    *\n",
      "   ***\n",
      "  *****\n",
      " *******\n",
      "*********\n",
      " *******\n",
      "  *****\n",
      "   ***\n",
      "    *\n"
     ]
    }
   ],
   "source": [
    "# Solution 2\n",
    "\n",
    "# Prompt user input\n",
    "n = int(input(\"Please input side length of diamond: \"))\n",
    "\n",
    "\n",
    "# **************************************************\n",
    "\n",
    "# - Method 1: lambda function + list comprehensive\n",
    "λ = lambda r: [print((n - (x + 1)) * ' ' + (2 * x + 1) * '*') for x in r]\n",
    "_ = λ(range(n - 1)) + λ(range(n - 1, -1, -1))\n",
    "\n",
    "\n",
    "# **************************************************\n",
    "\n",
    "# # - Method 2:\n",
    "# # Upper diamond\n",
    "# for idx in range(n - 1):\n",
    "#     print((n - (idx + 1)) * ' ' + (2 * idx + 1) * '*')\n",
    "# #     print((n - idx) * ' ' + (2 * idx + 1) * '*')\n",
    "    \n",
    "# # Lower diamond\n",
    "# for idx in range(n - 1, -1, -1): # range(start, end, interval)\n",
    "#     print((n - (idx + 1)) * ' ' + (2 * idx + 1) * '*')\n",
    "# #     print((n - idx) * ' ' + (2 * idx + 1) * '*')"
   ]
  },
  {
   "cell_type": "markdown",
   "metadata": {},
   "source": [
    "<a name='tab_newline'></a>\n",
    "\n",
    "## Tab & New Line\n",
    "\n",
    "`\\t` -- Tab\n",
    "\n",
    "`\\n` -- New line\n",
    "\n",
    "\\' -- To insert '"
   ]
  },
  {
   "cell_type": "markdown",
   "metadata": {},
   "source": [
    "<a name='program3'></a>\n",
    "\n",
    "### Program: 03"
   ]
  },
  {
   "cell_type": "code",
   "execution_count": 51,
   "metadata": {},
   "outputs": [
    {
     "name": "stdout",
     "output_type": "stream",
     "text": [
      "This is a new paragraph. \n",
      "\t Hello world! \n",
      "This is a new line.\n"
     ]
    }
   ],
   "source": [
    "print('This is a new paragraph. \\n\\t Hello world! \\nThis is a new line.')"
   ]
  },
  {
   "cell_type": "markdown",
   "metadata": {},
   "source": [
    "### Try This: 03\n",
    "\n",
    "**<span style=\"color:blue\">Write a Python program to print the following string in a specific format.</span>**"
   ]
  },
  {
   "cell_type": "markdown",
   "metadata": {
    "collapsed": true
   },
   "source": [
    "Expected output:\n",
    "\n",
    "```\n",
    "A: \"What are you doing now?\"\n",
    "    B: \"I'm watching TV, what about you?\"\n",
    "A: \"I'm doing my homework, but I really need to take a break.\"\n",
    "    B: \"You want to do something?\"\n",
    "A: \"Yes. But I shouldn't. I got to finish my assignment now.\"\n",
    "    B: \"Alright. Call me later then.\"\n",
    "A: \"OK. Bye.\"\n",
    "```"
   ]
  },
  {
   "cell_type": "markdown",
   "metadata": {},
   "source": [
    "#### Solution"
   ]
  },
  {
   "cell_type": "code",
   "execution_count": 52,
   "metadata": {},
   "outputs": [
    {
     "name": "stdout",
     "output_type": "stream",
     "text": [
      "A: \"What are you doing now?\"\n",
      "\t B: \"I'm watching TV, what about you?\"\n",
      " A: \"I'm doing my homework, but I really need to take a break.\"\n",
      "\t B: \"You want to do something?\"\n",
      " A: \"Yes. But I shouldn't. I got to finish my assignment now.\"\n",
      "\t B: \"Alright. Call me later then.\"\n",
      " A: \"OK. Bye.\"\n"
     ]
    }
   ],
   "source": [
    "# Solution\n",
    "print(\"A: \\\"What are you doing now?\\\"\\n\\t \\\n",
    "B: \\\"I\\'m watching TV, what about you?\\\"\\n \\\n",
    "A: \\\"I\\'m doing my homework, but I really need to take a break.\\\"\\n\\t \\\n",
    "B: \\\"You want to do something?\\\"\\n \\\n",
    "A: \\\"Yes. But I shouldn\\'t. I got to finish my assignment now.\\\"\\n\\t \\\n",
    "B: \\\"Alright. Call me later then.\\\"\\n \\\n",
    "A: \\\"OK. Bye.\\\"\")"
   ]
  },
  {
   "cell_type": "markdown",
   "metadata": {},
   "source": [
    "<a name=import></a>\n",
    "\n",
    "## Import Modules and Packages\n",
    "\n",
    "The following shows some common Python modules/packages which provide some convenient functions which can be quite useful for certain tasks. Before calling these functions, we need to tell the machine to specify which modules/packages we will be using. The syntax is: `import {package/module_name}`.\n",
    "\n",
    "```\n",
    "import datetime\n",
    "import math\n",
    "import numpy\n",
    "import pandas\n",
    "import platform\n",
    "```"
   ]
  },
  {
   "cell_type": "code",
   "execution_count": 53,
   "metadata": {},
   "outputs": [
    {
     "name": "stdout",
     "output_type": "stream",
     "text": [
      "3.8.3\n"
     ]
    }
   ],
   "source": [
    "# To check Version of Python that is running\n",
    "import platform\n",
    "print(platform.python_version())"
   ]
  },
  {
   "cell_type": "markdown",
   "metadata": {},
   "source": [
    "Python also has some built-in functions which do not require the `import` call. One of them is the `type()` function."
   ]
  },
  {
   "cell_type": "code",
   "execution_count": 54,
   "metadata": {},
   "outputs": [
    {
     "data": {
      "text/plain": [
       "float"
      ]
     },
     "execution_count": 54,
     "metadata": {},
     "output_type": "execute_result"
    }
   ],
   "source": [
    "# To check variable type\n",
    "s = 0.314\n",
    "type(s)"
   ]
  },
  {
   "cell_type": "markdown",
   "metadata": {},
   "source": [
    "<a name=mathematics></a>\n",
    "\n",
    "### Mathematics\n",
    "\n",
    "The following are some common Python modules/packages which provide mathematical functions\n",
    "- `math`: gives access to the underlying C library functions for floating point math.\n",
    "- `random`: provides tools for making random selections.\n",
    "- `statistics`: calculates basic statistical properties (the mean, median, variance, etc.) of numeric data."
   ]
  },
  {
   "cell_type": "markdown",
   "metadata": {},
   "source": [
    "#### `math` module \n",
    "\n",
    "The lines of code in the cell below can be expressed mathematically as follows:\n",
    "\n",
    "- `math.cos(math.pi / 4)`: $\\displaystyle{\\cos{\\left(\\frac{\\pi}{4}\\right)}}$\n",
    "- `math.log(1024, 2)`: $\\displaystyle{\\log_2{1024}}$\n",
    "\n",
    "Check [documentation](https://docs.python.org/3/library/math.html?highlight=math#module-math) for more on `math` module.\n",
    "\n",
    "**Bonus hint**: The mathematical formula written in $\\LaTeX$ can be rendered in the Markdown cell. "
   ]
  },
  {
   "cell_type": "code",
   "execution_count": 55,
   "metadata": {
    "scrolled": true
   },
   "outputs": [
    {
     "name": "stdout",
     "output_type": "stream",
     "text": [
      "0.7071067811865476\n",
      "10.0\n"
     ]
    }
   ],
   "source": [
    "import math\n",
    "\n",
    "print(math.cos(math.pi / 4))\n",
    "print(math.log(1024, 2))"
   ]
  },
  {
   "cell_type": "markdown",
   "metadata": {},
   "source": [
    "#### `random` module\n",
    "\n",
    "Try running the code cell below for multiple times (shortcut key: **Ctrl + Enter**), you will notice that the new output is always different from the previous output.\n",
    "\n",
    "Check [documentation](https://docs.python.org/3/library/random.html?highlight=random#module-random) for more on `random` module."
   ]
  },
  {
   "cell_type": "code",
   "execution_count": 56,
   "metadata": {},
   "outputs": [
    {
     "name": "stdout",
     "output_type": "stream",
     "text": [
      "apple\n",
      "[85, 71, 80, 48, 72, 28, 7, 63, 24, 27]\n",
      "0.9404463282494391\n",
      "5\n"
     ]
    }
   ],
   "source": [
    "import random\n",
    "\n",
    "print(random.choice(['apple', 'pear', 'banana']))\n",
    "\n",
    "# sampling without replacement\n",
    "print(random.sample(range(100), 10))   \n",
    "\n",
    "# random float\n",
    "print(random.random())    \n",
    "\n",
    "# random integer chosen from range(6)\n",
    "print(random.randrange(6))   "
   ]
  },
  {
   "cell_type": "markdown",
   "metadata": {},
   "source": [
    "#### `statistics` module \n",
    "\n",
    "Check [documentation](https://docs.python.org/3/library/statistics.html?highlight=statistics#module-statistics) for more on `statistics` module."
   ]
  },
  {
   "cell_type": "code",
   "execution_count": 57,
   "metadata": {},
   "outputs": [
    {
     "name": "stdout",
     "output_type": "stream",
     "text": [
      "mean = 1.6071428571428572\n",
      "median = 1.25\n",
      "variance = 1.3720238095238095\n"
     ]
    }
   ],
   "source": [
    "import statistics\n",
    "data = [2.75, 1.75, 1.25, 0.25, 0.5, 1.25, 3.5]\n",
    "print ('mean =', statistics.mean(data))\n",
    "print ('median =', statistics.median(data))\n",
    "print ('variance =', statistics.variance(data))"
   ]
  },
  {
   "cell_type": "markdown",
   "metadata": {
    "collapsed": true
   },
   "source": [
    "<a name='date_time'></a>\n",
    "\n",
    "### Dates and Times\n",
    "\n",
    "The `datetime` module supplies classes for manipulating dates and times from simple to complex ways. While date and time arithmetic is supported, the focus of the implementation is on efficient member extraction for output formatting and manipulation. The module also supports objects that are timezone aware.\n",
    "\n",
    "Check [documentation](https://docs.python.org/3/library/datetime.html) here for more on `datetime` module."
   ]
  },
  {
   "cell_type": "code",
   "execution_count": 58,
   "metadata": {},
   "outputs": [
    {
     "name": "stdout",
     "output_type": "stream",
     "text": [
      "Now: 2020-10-25\n",
      "General datetime format: 2003-12-02\n",
      "Age: 60.19178082191781\n"
     ]
    }
   ],
   "source": [
    "import datetime\n",
    "from datetime import date\n",
    "now = date.today()\n",
    "print('Now:', now)\n",
    "\n",
    "print('General datetime format:', datetime.date(2003, 12, 2))\n",
    "\n",
    "birthday = date(1960, 8, 31)\n",
    "age = now - birthday\n",
    "print('Age:', age.days/365)"
   ]
  },
  {
   "cell_type": "markdown",
   "metadata": {},
   "source": [
    "<a name='data_structure'></a>\n",
    "\n",
    "## Data Structures\n",
    "\n",
    "List is one of the most fundamental data structures in most programming languages including Python. You can think of a list as an object, which consists of two parts: **property** and **method**. The elements in the list are considered as the property of the list, whereas there are also methods associated to any list to manipulate the property of the list (e.g.: `count()` is one of them).\n",
    "\n",
    "Don't worry if you don't understand the explanation above for now. The concept will come in handy with enough practices."
   ]
  },
  {
   "cell_type": "code",
   "execution_count": 59,
   "metadata": {},
   "outputs": [
    {
     "data": {
      "text/plain": [
       "2"
      ]
     },
     "execution_count": 59,
     "metadata": {},
     "output_type": "execute_result"
    }
   ],
   "source": [
    "# Define list of fruit names\n",
    "fruits = ['orange', 'apple', 'pear', 'banana', 'kiwi', 'apple', 'banana']\n",
    "\n",
    "# Count the frequency of 'apple' in the list\n",
    "fruits.count('apple')"
   ]
  },
  {
   "cell_type": "code",
   "execution_count": 60,
   "metadata": {},
   "outputs": [
    {
     "data": {
      "text/plain": [
       "0"
      ]
     },
     "execution_count": 60,
     "metadata": {},
     "output_type": "execute_result"
    }
   ],
   "source": [
    "# Count the frequency of 'tangerine' in the list.\n",
    "fruits.count('tangerine')"
   ]
  },
  {
   "cell_type": "markdown",
   "metadata": {},
   "source": [
    "So, we know how to define a list and get the frequency of an element within the list. Next, we would like to know the position of an element in a list. We can call the `index()` method, passing the name of the element, and this method will return a value associated with the position of the element within the list.\n",
    "\n",
    "**Note that the element must exist in the list, otherwise, this method will throw an <span style=\"color:red\">error</span>.**"
   ]
  },
  {
   "cell_type": "code",
   "execution_count": 61,
   "metadata": {},
   "outputs": [
    {
     "data": {
      "text/plain": [
       "3"
      ]
     },
     "execution_count": 61,
     "metadata": {},
     "output_type": "execute_result"
    }
   ],
   "source": [
    "# Get the index of `banana` from the list.\n",
    "fruits.index('banana')"
   ]
  },
  {
   "cell_type": "markdown",
   "metadata": {},
   "source": [
    "At this point, you may notice that calling `index()` method only returns one value, even though there are 2 \"banana\"s in the list. The return value is `3`, even though you may see that \"banana\" appears as the 4th and 7th elements in the list. Why?\n",
    "\n",
    "In Python (as well as most programming languages), the count of the **index** (i.e. the position) of an element within a list starts from `0`, instead of `1`. For example, the index of \"orange\" in the list is `0`, instead of `1`. Therefore, it makes sense that the return value `3` corresponds to the first \"banana\" from the list.\n",
    "\n",
    "What can be done if we also want to know the position of the second \"banana\" from the list? We can pass a second integer value to specify the starting position to find the element and return its index value when calling `index()` method, as demonstrated below."
   ]
  },
  {
   "cell_type": "code",
   "execution_count": 62,
   "metadata": {},
   "outputs": [
    {
     "data": {
      "text/plain": [
       "6"
      ]
     },
     "execution_count": 62,
     "metadata": {},
     "output_type": "execute_result"
    }
   ],
   "source": [
    "# Find next banana starting from position 4\n",
    "fruits.index('banana', 4)  "
   ]
  },
  {
   "cell_type": "markdown",
   "metadata": {},
   "source": [
    "Some other operations (methods) available to manipulate a list are shown below:"
   ]
  },
  {
   "cell_type": "code",
   "execution_count": 63,
   "metadata": {},
   "outputs": [
    {
     "data": {
      "text/plain": [
       "['banana', 'apple', 'kiwi', 'banana', 'pear', 'apple', 'orange']"
      ]
     },
     "execution_count": 63,
     "metadata": {},
     "output_type": "execute_result"
    }
   ],
   "source": [
    "# Reverse the order of the elements within the list, in-place, i.e., the effect is permanent. \n",
    "fruits.reverse()\n",
    "fruits"
   ]
  },
  {
   "cell_type": "code",
   "execution_count": 64,
   "metadata": {},
   "outputs": [
    {
     "data": {
      "text/plain": [
       "['banana', 'apple', 'kiwi', 'banana', 'pear', 'apple', 'orange', 'grape']"
      ]
     },
     "execution_count": 64,
     "metadata": {},
     "output_type": "execute_result"
    }
   ],
   "source": [
    "# Add new element into the list.\n",
    "fruits.append('grape')\n",
    "fruits"
   ]
  },
  {
   "cell_type": "code",
   "execution_count": 65,
   "metadata": {},
   "outputs": [
    {
     "data": {
      "text/plain": [
       "['apple', 'apple', 'banana', 'banana', 'grape', 'kiwi', 'orange', 'pear']"
      ]
     },
     "execution_count": 65,
     "metadata": {},
     "output_type": "execute_result"
    }
   ],
   "source": [
    "# Sort the elements within the list (default: ascending order).\n",
    "fruits.sort()\n",
    "fruits"
   ]
  },
  {
   "cell_type": "code",
   "execution_count": 66,
   "metadata": {},
   "outputs": [
    {
     "data": {
      "text/plain": [
       "['apple', 'apple', 'banana', 'grape', 'kiwi', 'orange', 'pear']"
      ]
     },
     "execution_count": 66,
     "metadata": {},
     "output_type": "execute_result"
    }
   ],
   "source": [
    "# Remove the third element (at index 2) from the list. \n",
    "fruits.pop(2)\n",
    "fruits"
   ]
  },
  {
   "cell_type": "markdown",
   "metadata": {},
   "source": [
    "**Optional**: Check [documentation](https://docs.python.org/3/tutorial/datastructures.html?highlight=list) for more on data structures (lists)."
   ]
  },
  {
   "cell_type": "markdown",
   "metadata": {},
   "source": [
    "<a name='challenge'></a>\n",
    "\n",
    "# Challenge: The Guessing Game\n",
    "\n",
    "Step-by-step to develop a program. \n",
    "\n",
    "The guessing game program will do the following:\n",
    "- The player only gets five turns.\n",
    "- The program tells the player after each guess if the number is higher or lower.\n",
    "- The program prints appropriate messages for when the player wins and loses.\n",
    "\n",
    "***\n",
    "\n",
    "Below is what we want the program to look like:\n",
    "\n",
    "```\n",
    "Enter your guess (1-100): 50\n",
    "LOWER. 4 guesses left.\n",
    "Enter your guess (1-100): 25\n",
    "LOWER. 3 guesses left.\n",
    "Enter your guess (1-100): 12\n",
    "LOWER. 2 guesses left.\n",
    "Enter your guess (1-100): 6\n",
    "HIGHER. 1 guesses left.\n",
    "Enter your guess (1-100): 9\n",
    "LOWER. 0 guesses left.\n",
    "You lose. The correct number is 8\n",
    "```\n",
    "\n",
    "***\n",
    "\n",
    "First, think about what we will need in the program:\n",
    "\n",
    "- We need random numbers, so there will be an import statement at the beginning of the program and a randint function somewhere else.\n",
    "- To allow the user to guess until they either guess right or run out of turns, one solution is to use while loop with a condition that takes care of both of these possibilities.\n",
    "- There will be an input statement to get the user’s guess. As this is something that is repeatedly done, it will go inside the loop.\n",
    "- There will be an if statement to take care of the higher/lower thing. As this comparison will be done repeatedly and will depend on the user’s guesses, it will go in the loop after the input statement.\n",
    "- There will be a counting variable to keep track of how many turns the player has taken. Each time the user makes a guess, the count will go up by one, so this statement will also go inside the loop."
   ]
  },
  {
   "cell_type": "markdown",
   "metadata": {},
   "source": [
    "#### Solution 1\n",
    "\n",
    "Using `while` loop."
   ]
  },
  {
   "cell_type": "code",
   "execution_count": 67,
   "metadata": {},
   "outputs": [
    {
     "name": "stdout",
     "output_type": "stream",
     "text": [
      "Enter your guess (1-100): 50\n",
      "HIGHER. 4 guesses left.\n",
      "\n",
      "Enter your guess (1-100): 75\n",
      "LOWER. 3 guesses left.\n",
      "\n",
      "Enter your guess (1-100): 62\n",
      "LOWER. 2 guesses left.\n",
      "\n",
      "Enter your guess (1-100): 56\n",
      "You got it!\n"
     ]
    }
   ],
   "source": [
    "# Solution 1\n",
    "from random import randint\n",
    "\n",
    "secret_num = randint(1,100)\n",
    "num_guesses = 0\n",
    "guess = 0\n",
    "\n",
    "while guess != secret_num and num_guesses <= 4:\n",
    "    guess = int(input('Enter your guess (1-100): '))\n",
    "    num_guesses = num_guesses + 1\n",
    "    if guess < secret_num:\n",
    "        print('HIGHER.', 5-num_guesses, 'guesses left.\\n')\n",
    "    elif guess > secret_num:\n",
    "        print('LOWER.', 5-num_guesses, 'guesses left.\\n')\n",
    "    else:\n",
    "        print('You got it!')\n",
    "\n",
    "if num_guesses==5 and guess != secret_num:\n",
    "    print('You lose. The correct number is', secret_num)"
   ]
  },
  {
   "cell_type": "markdown",
   "metadata": {},
   "source": [
    "#### Solution 2\n",
    "\n",
    "Using `for` loop."
   ]
  },
  {
   "cell_type": "code",
   "execution_count": 68,
   "metadata": {},
   "outputs": [
    {
     "name": "stdout",
     "output_type": "stream",
     "text": [
      "Enter your guess (1-100): 50\n",
      "LOWER. 4 guesses left.\n",
      "\n",
      "Enter your guess (1-100): 25\n",
      "HIGHER. 3 guesses left.\n",
      "\n",
      "Enter your guess (1-100): 38\n",
      "HIGHER. 2 guesses left.\n",
      "\n",
      "Enter your guess (1-100): 44\n",
      "You got it!\n"
     ]
    }
   ],
   "source": [
    "# Solution 2\n",
    "from random import randint\n",
    "\n",
    "secret_num = randint(1,100)\n",
    "attempts = 5\n",
    "\n",
    "for num_guesses in range(attempts):\n",
    "    guess = int(input('Enter your guess (1-100): '))\n",
    "    if guess < secret_num:\n",
    "        print('HIGHER.', attempts - (num_guesses + 1), 'guesses left.\\n') # 1.\n",
    "    elif guess > secret_num:\n",
    "        print('LOWER.', attempts - (num_guesses + 1), 'guesses left.\\n')\n",
    "    else:\n",
    "        print('You got it!')\n",
    "        break # 2.\n",
    "\n",
    "else:\n",
    "    print('You lose. The correct number is', secret_num)\n",
    "    \n",
    "# 1. num_guesses + 1: the value of num_guesses starts from 0.\n",
    "# 2. break: When the guessed number is correct, end the game."
   ]
  },
  {
   "cell_type": "code",
   "execution_count": null,
   "metadata": {},
   "outputs": [],
   "source": []
  }
 ],
 "metadata": {
  "kernelspec": {
   "display_name": "Python 3",
   "language": "python",
   "name": "python3"
  },
  "language_info": {
   "codemirror_mode": {
    "name": "ipython",
    "version": 3
   },
   "file_extension": ".py",
   "mimetype": "text/x-python",
   "name": "python",
   "nbconvert_exporter": "python",
   "pygments_lexer": "ipython3",
   "version": "3.8.3"
  }
 },
 "nbformat": 4,
 "nbformat_minor": 2
}
